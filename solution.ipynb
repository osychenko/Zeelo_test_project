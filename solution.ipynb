{
 "cells": [
  {
   "cell_type": "code",
   "execution_count": 6,
   "metadata": {
    "collapsed": true
   },
   "outputs": [],
   "source": [
    "%matplotlib inline\n",
    "from pylab import *\n",
    "from matplotlib.pyplot import figure, plot, xlabel, ylabel, title, show\n"
   ]
  },
  {
   "cell_type": "code",
   "execution_count": 11,
   "metadata": {},
   "outputs": [],
   "source": [
    "json_txt = '{\"nhits\": 17708, \"parameters\": {\"dataset\": [\"worldcitiespop\"], \"refine\": {\"country\": \"gb\"}, \"timezone\": \"UTC\", \"rows\": 10, \"sort\": [\"population\"], \"format\": \"json\", \"facet\": [\"country\"]}, \"records\": [{\"datasetid\": \"worldcitiespop\", \"recordid\": \"1a3a09c6d9e88e2750844a8155b7bd2f52fd18d4\", \"fields\": {\"city\": \"london\", \"country\": \"gb\", \"region\": \"H9\", \"geopoint\": [51.514125, -0.093689], \"longitude\": -0.093689, \"latitude\": 51.514125, \"accentcity\": \"London\", \"population\": 7421228}, \"geometry\": {\"type\": \"Point\", \"coordinates\": [-0.093689, 51.514125]}, \"record_timestamp\": \"2018-01-08T11:47:45+00:00\"}, {\"datasetid\": \"worldcitiespop\", \"recordid\": \"854dc62297a50ffd882d92fb217ac4d9a4cf4681\", \"fields\": {\"city\": \"birmingham\", \"country\": \"gb\", \"region\": \"A7\", \"geopoint\": [52.466667, -1.916667], \"longitude\": -1.916667, \"latitude\": 52.466667, \"accentcity\": \"Birmingham\", \"population\": 984336}, \"geometry\": {\"type\": \"Point\", \"coordinates\": [-1.916667, 52.466667]}, \"record_timestamp\": \"2018-01-08T11:47:45+00:00\"}, {\"datasetid\": \"worldcitiespop\", \"recordid\": \"f9a3795d645c9a29cfc5622c0a55bea7b439d003\", \"fields\": {\"city\": \"glasgow\", \"country\": \"gb\", \"region\": \"V2\", \"geopoint\": [55.833333, -4.25], \"longitude\": -4.25, \"latitude\": 55.833333, \"accentcity\": \"Glasgow\", \"population\": 610271}, \"geometry\": {\"type\": \"Point\", \"coordinates\": [-4.25, 55.833333]}, \"record_timestamp\": \"2018-01-08T11:47:45+00:00\"}, {\"datasetid\": \"worldcitiespop\", \"recordid\": \"cda05e49431e24c9c96e9d26e50717e2c713a9d7\", \"fields\": {\"city\": \"belfast\", \"country\": \"gb\", \"region\": \"R3\", \"geopoint\": [54.583333, -5.933333], \"longitude\": -5.933333, \"latitude\": 54.583333, \"accentcity\": \"Belfast\", \"population\": 585994}, \"geometry\": {\"type\": \"Point\", \"coordinates\": [-5.933333, 54.583333]}, \"record_timestamp\": \"2018-01-08T11:47:45+00:00\"}, {\"datasetid\": \"worldcitiespop\", \"recordid\": \"c80ec7a8f224c0fbb3aedd1d557b0a96435338df\", \"fields\": {\"city\": \"liverpool\", \"country\": \"gb\", \"region\": \"H8\", \"geopoint\": [53.416667, -3.0], \"longitude\": -3.0, \"latitude\": 53.416667, \"accentcity\": \"Liverpool\", \"population\": 468946}, \"geometry\": {\"type\": \"Point\", \"coordinates\": [-3.0, 53.416667]}, \"record_timestamp\": \"2018-01-08T11:47:45+00:00\"}, {\"datasetid\": \"worldcitiespop\", \"recordid\": \"ee99264d6f1cf1ce5899eff305f94a170a032a40\", \"fields\": {\"city\": \"leeds\", \"country\": \"gb\", \"region\": \"H3\", \"geopoint\": [53.8, -1.583333], \"longitude\": -1.583333, \"latitude\": 53.8, \"accentcity\": \"Leeds\", \"population\": 455124}, \"geometry\": {\"type\": \"Point\", \"coordinates\": [-1.583333, 53.8]}, \"record_timestamp\": \"2018-01-08T11:47:45+00:00\"}, {\"datasetid\": \"worldcitiespop\", \"recordid\": \"08a62eff5ed1a878161e1073263116687bf1eb06\", \"fields\": {\"city\": \"sheffield\", \"country\": \"gb\", \"region\": \"L9\", \"geopoint\": [53.366667, -1.5], \"longitude\": -1.5, \"latitude\": 53.366667, \"accentcity\": \"Sheffield\", \"population\": 447048}, \"geometry\": {\"type\": \"Point\", \"coordinates\": [-1.5, 53.366667]}, \"record_timestamp\": \"2018-01-08T11:47:45+00:00\"}, {\"datasetid\": \"worldcitiespop\", \"recordid\": \"ba9eba66e0fbfebf0b8bb7ffd33557ff77908289\", \"fields\": {\"city\": \"edinburgh\", \"country\": \"gb\", \"region\": \"U8\", \"geopoint\": [55.95, -3.2], \"longitude\": -3.2, \"latitude\": 55.95, \"accentcity\": \"Edinburgh\", \"population\": 435794}, \"geometry\": {\"type\": \"Point\", \"coordinates\": [-3.2, 55.95]}, \"record_timestamp\": \"2018-01-08T11:47:45+00:00\"}, {\"datasetid\": \"worldcitiespop\", \"recordid\": \"0eab24a1db6886503460c5dc0451978359c60894\", \"fields\": {\"city\": \"bristol\", \"country\": \"gb\", \"region\": \"B7\", \"geopoint\": [51.45, -2.583333], \"longitude\": -2.583333, \"latitude\": 51.45, \"accentcity\": \"Bristol\", \"population\": 430714}, \"geometry\": {\"type\": \"Point\", \"coordinates\": [-2.583333, 51.45]}, \"record_timestamp\": \"2018-01-08T11:47:45+00:00\"}, {\"datasetid\": \"worldcitiespop\", \"recordid\": \"223f64707d5fc855036cdf4da1867c381c2448b8\", \"fields\": {\"city\": \"manchester\", \"country\": \"gb\", \"region\": \"I2\", \"geopoint\": [53.5, -2.216667], \"longitude\": -2.216667, \"latitude\": 53.5, \"accentcity\": \"Manchester\", \"population\": 395516}, \"geometry\": {\"type\": \"Point\", \"coordinates\": [-2.216667, 53.5]}, \"record_timestamp\": \"2018-01-08T11:47:45+00:00\"}], \"facet_groups\": [{\"name\": \"country\", \"facets\": [{\"name\": \"gb\", \"path\": \"gb\", \"count\": 17708, \"state\": \"refined\"}]}]}'"
   ]
  },
  {
   "cell_type": "code",
   "execution_count": 30,
   "metadata": {},
   "outputs": [
    {
     "name": "stdout",
     "output_type": "stream",
     "text": [
      "dict_keys(['nhits', 'parameters', 'records', 'facet_groups'])\n"
     ]
    }
   ],
   "source": [
    "import pandas as pd\n",
    "import json\n",
    "#data = json.dumps(json_txt)\n",
    "data2 = json.loads(json_txt)\n",
    "print(data2.keys())"
   ]
  },
  {
   "cell_type": "code",
   "execution_count": 23,
   "metadata": {},
   "outputs": [
    {
     "ename": "NameError",
     "evalue": "name 'linspace' is not defined",
     "output_type": "error",
     "traceback": [
      "\u001b[1;31m---------------------------------------------------------------------------\u001b[0m",
      "\u001b[1;31mNameError\u001b[0m                                 Traceback (most recent call last)",
      "\u001b[1;32m<ipython-input-23-3a6fd7146739>\u001b[0m in \u001b[0;36m<module>\u001b[1;34m()\u001b[0m\n\u001b[1;32m----> 1\u001b[1;33m \u001b[0mx\u001b[0m \u001b[1;33m=\u001b[0m \u001b[0mlinspace\u001b[0m\u001b[1;33m(\u001b[0m\u001b[1;36m0\u001b[0m\u001b[1;33m,\u001b[0m \u001b[1;36m5\u001b[0m\u001b[1;33m,\u001b[0m \u001b[1;36m10\u001b[0m\u001b[1;33m)\u001b[0m\u001b[1;33m\u001b[0m\u001b[0m\n\u001b[0m\u001b[0;32m      2\u001b[0m \u001b[0my\u001b[0m \u001b[1;33m=\u001b[0m \u001b[0mx\u001b[0m \u001b[1;33m**\u001b[0m \u001b[1;36m2\u001b[0m\u001b[1;33m\u001b[0m\u001b[0m\n\u001b[0;32m      3\u001b[0m \u001b[0mfigure\u001b[0m\u001b[1;33m(\u001b[0m\u001b[1;33m)\u001b[0m\u001b[1;33m\u001b[0m\u001b[0m\n\u001b[0;32m      4\u001b[0m \u001b[0mplot\u001b[0m\u001b[1;33m(\u001b[0m\u001b[0mx\u001b[0m\u001b[1;33m,\u001b[0m \u001b[0my\u001b[0m\u001b[1;33m,\u001b[0m \u001b[1;34m'r'\u001b[0m\u001b[1;33m)\u001b[0m\u001b[1;33m\u001b[0m\u001b[0m\n\u001b[0;32m      5\u001b[0m \u001b[0mxlabel\u001b[0m\u001b[1;33m(\u001b[0m\u001b[1;34m'x'\u001b[0m\u001b[1;33m)\u001b[0m\u001b[1;33m\u001b[0m\u001b[0m\n",
      "\u001b[1;31mNameError\u001b[0m: name 'linspace' is not defined"
     ]
    }
   ],
   "source": [
    "x = linspace(0, 5, 10)\n",
    "y = x ** 2\n",
    "figure()\n",
    "plot(x, y, 'r')\n",
    "xlabel('x')\n",
    "ylabel('y')\n",
    "title('title')\n",
    "show()"
   ]
  },
  {
   "cell_type": "markdown",
   "metadata": {},
   "source": [
    "$$c=\\sqrt(a^2+b^2)$$"
   ]
  },
  {
   "cell_type": "code",
   "execution_count": null,
   "metadata": {},
   "outputs": [],
   "source": []
  }
 ],
 "metadata": {
  "kernelspec": {
   "display_name": "Python 3",
   "language": "python",
   "name": "python3"
  },
  "language_info": {
   "codemirror_mode": {
    "name": "ipython",
    "version": 3
   },
   "file_extension": ".py",
   "mimetype": "text/x-python",
   "name": "python",
   "nbconvert_exporter": "python",
   "pygments_lexer": "ipython3",
   "version": "3.6.5"
  }
 },
 "nbformat": 4,
 "nbformat_minor": 1
}
